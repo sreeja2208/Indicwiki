{
  "nbformat": 4,
  "nbformat_minor": 0,
  "metadata": {
    "colab": {
      "name": "xml.ipynb",
      "provenance": [],
      "authorship_tag": "ABX9TyOq7hJyjdIaz4rZPkCyPEqn",
      "include_colab_link": true
    },
    "kernelspec": {
      "name": "python3",
      "display_name": "Python 3"
    },
    "language_info": {
      "name": "python"
    }
  },
  "cells": [
    {
      "cell_type": "markdown",
      "metadata": {
        "id": "view-in-github",
        "colab_type": "text"
      },
      "source": [
        "<a href=\"https://colab.research.google.com/github/sreeja2208/Indicwiki/blob/main/xml.ipynb\" target=\"_parent\"><img src=\"https://colab.research.google.com/assets/colab-badge.svg\" alt=\"Open In Colab\"/></a>"
      ]
    },
    {
      "cell_type": "code",
      "execution_count": null,
      "metadata": {
        "id": "w2qqGl6NsjeN"
      },
      "outputs": [],
      "source": [
        "import pandas as pd\n",
        "import random\n",
        "df=pd.read_excel('/content/TD (2).xlsx','Sheet1')\n",
        "names=df['name']\n",
        "Images=df['Image Links']\n",
        "perlu=df['peru']\n",
        "latitudes=df['Latitude']\n",
        "longitudes=df['Longitude']\n",
        "cities=df['city']\n",
        "nagaraalu=df['nagaram']\n",
        "rastralu=df['rastram']\n",
        "deshalu=df['desham']\n",
        "fulladdressess=df['Full Address']\n",
        "fulladdressess1=df['Full Address-1']\n",
        "kandalu=df['kandam']\n",
        "gamyamrakalu=df['gamyam rakam']\n",
        "ratings=df['rating']\n",
        "temperatures=df['temperature']\n",
        "visitingtime=df['visiting time']\n",
        "reach=df['reaching']\n",
        "links=df['Links']\n",
        "desdes=df['small description']\n",
        "desdes1=df['destination description']\n",
        "q=0\n",
        "with open('/content/sample.txt', 'w') as w:\n",
        "  for i,j in enumerate(perlu):\n",
        "    if(j!='nan' and perlu[i]!='nan'):\n",
        "      w.write('\\t<page>')\n",
        "      w.write('\\t\\t<title>'+str(perlu[i])+'</title>')\n",
        "      w.write('\\t\\t<ns>'+'0'+'</ns>')\n",
        "      p=random.randint(500000,999999)\n",
        "      w.write('\\t\\t<id>'+str(p)+'</id>')\n",
        "      w.write('\\t\\t<revision>')\n",
        "      w.write('\\t\\t\\t<id>'+str(p)+'</id>')\n",
        "      w.write('\\t\\t\\t<timestamp>'+'2022-05-09T23-45-03Z'+'</timestamp>')\n",
        "      w.write('\\t\\t\\t<contributer>')\n",
        "      w.write('\\t\\t\\t\\t<username>Sreeja</username>')\n",
        "      w.write('\\t\\t\\t\\t<id>'+'18865'+ '</id>')\n",
        "      w.write('\\t\\t\\t</contributer>')\n",
        "      w.write('\\t\\t\\t<comment>'+'xmlpage created'+'</comment>')\n",
        "      w.write('\\t\\t\\t<model>'+'wikitext'+'</model>')\n",
        "      w.write('\\t\\t\\t<format>'+'text/x-wiki'+'</format>')\n",
        "      w.write('\\t\\t\\t<text xml:space=\"preserve\">')\n",
        "      w.write('{{Infobox Tourist Destination')\n",
        "      w.write('|name='+str(perlu[i]))\n",
        "      if(Images[i]!='none'):\n",
        "        w.write('|Image Link='+str(Images[i]))\n",
        "      if(cities[i]!='nan'):\n",
        "        w.write('|city='+str(nagaraalu[i]))\n",
        "      if(rastralu[i]!='nan'):\n",
        "        w.write('|state='+str(rastralu[i]))\n",
        "      w.write('|country='+str(deshalu[i]))\n",
        "      w.write('|continent='+str(kandalu[i]))\n",
        "      w.write('|Full Address='+str(fulladdressess[i])+'\\n'+str(fulladdressess1[i]))\n",
        "      if(latitudes[i]!='nan'):\n",
        "        w.write('|latitude='+str(latitudes[i]))\n",
        "      if(longitudes[i]!='nan'):\n",
        "        w.write('|longitude='+str(longitudes[i]))\n",
        "      w.write('|destination type='+str(gamyamrakalu[i]))\n",
        "      w.write('|best time to visit='+str(visitingtime[i]))\n",
        "      w.write('|temperature='+str(temperatures[i]))\n",
        "      w.write('|can reach by='+str(reach[i]))\n",
        "      w.write('|rating='+str(ratings[i])+'}}')\n",
        "      \n",
        "      if(rastralu[i]!='nan' and cities[i]!='nan'):\n",
        "        p=random.randint(0,2)\n",
        "        if(p==1):\n",
        "          w.write(str(perlu[i])+' అనే సందర్శన ప్రదేశం '+str(deshalu[i])+' దేశంలోని '+str(rastralu[i])+' రాష్ట్రంకి చందిన '+str(nagaraalu[i])+' నగరం లో ఉంది.')\n",
        "        else:\n",
        "          w.write(str(perlu[i])+' అనే పర్యాటక ప్రదేశం '+str(nagaraalu[i])+' లో ఉంది. ఈ నగరం '+str(deshalu[i])+' దేశంలోని '+str(rastralu[i])+'రాష్ట్రంలో ఉంది.')  \n",
        "      elif(rastralu[i]=='nan' and cities[i]=='nan'):\n",
        "        p=random.randint(0,2)\n",
        "        if(p==1):\n",
        "          w.write(str(perlu[i])+' అనే సందర్శన ప్రదేశం '+str(deshalu[i])+' దేశంలో ఉంది.')\n",
        "        else:  \n",
        "          w.write(str(perlu[i])+' అనే పర్యాటక ప్రదేశం '+str(deshalu[i])+' దేశంలో ఉంది.')\n",
        "      elif(rastralu[i]!='nan' and cities[i]=='nan'):\n",
        "        w.write(str(perlu[i])+' అనే సందర్శన ప్రదేశం '+str(deshalu[i])+' దేశంలోని '+str(rastralu[i])+' రాష్ట్రంలో ఉంది.')\n",
        "      else:\n",
        "        p=random.randint(0,2)\n",
        "        if(p==1):\n",
        "          w.write(str(perlu[i])+' అనే సందర్శన ప్రదేశం '+str(deshalu[i])+' దేశంలోని '+str(nagaraalu[i])+' నగరం లో ఉంది.')  \n",
        "        else:\n",
        "         w.write(str(perlu[i])+' అనే పర్యాటక ప్రదేశం '+str(nagaraalu[i])+' లో ఉంది. ఈ నగరం '+str(deshalu[i])+' దేశంలో ఉంది.')   \n",
        "      p=random.randint(0,2)   \n",
        "      if(p==1):\n",
        "        w.write('ఇది '+str(kandalu[i])+' ఖండంలో ఉంది.')\n",
        "        w.write(str(deshalu[i])+'లోని అత్యుత్తమ సందర్శన ప్రదేశాలలో '+str(perlu[i])+' ఒకటి.')\n",
        "      else:\n",
        "        w.write(str(kandalu[i])+' అనే ఖండంలో ఇది ఉంది.') \n",
        "        w.write(str(perlu[i])+' '+str(deshalu[i])+'లోని అత్యుత్తమ పర్యాటక ప్రదేశాలలో ఒకటి.')\n",
        "      w.write(str(perlu[i])+' ఒక '+ str(gamyamrakalu[i])+'.')   \n",
        "      x=reach[i].split(',')\n",
        "      if(len(x)==2):\n",
        "        p=random.randint(0,2)\n",
        "        if(p==1):\n",
        "          w.write(x[0]+' మరియు '+x[1]+' మార్గాల ద్వారా '+str(perlu[i])+'కి చేరుకోవచ్చు.')\n",
        "        else:\n",
        "          w.write(str(perlu[i])+' చేరుకోడానికి పర్యాటకులు '+x[0]+' మరియు '+x[1]+' మార్గాలను వినియోగించుకోవచు.')  \n",
        "      elif(len(x)==3):\n",
        "        p=random.randint(0,2)\n",
        "        if(p==1):\n",
        "          w.write(x[0]+', '+x[1]+' మరియు '+x[2]+' మార్గాల ద్వారా '+str(perlu[i])+'కి చేరుకోవచ్చు.')\n",
        "        else:\n",
        "          w.write(str(perlu[i])+' చేరుకోడానికి పర్యాటకులు '+x[0]+', '+x[1]+' మరియు '+x[2]+' మార్గాలను వినియోగించుకోవచు.')  \n",
        "      x=visitingtime[i].split(',')\n",
        "      if(len(x)==1):\n",
        "        p=random.randint(0,2)\n",
        "        if(p==1):\n",
        "          w.write('ఈ పర్యాటక ప్రదేశాన్ని సందర్శించడానికి  '+x[0]+' ఉత్తమమైన సమయం.')\n",
        "        else:\n",
        "          w.write(x[0]+' నెల దీనిని సందర్శించడానికి  ఉత్తమమైన సమయం.') \n",
        "      elif(len(x)==2):\n",
        "        p=random.randint(0,2)\n",
        "        if(p==1):\n",
        "          w.write('ఈ పర్యాటక ప్రదేశాన్ని సందర్శించడానికి  '+x[0]+' మరియు '+x[1]+' ఉత్తమమైన సమయాలు.' )\n",
        "        else:\n",
        "          w.write(x[0]+' మరియు '+x[1]+' నెలలు దీనిని సందర్శించడానికి  ఉత్తమమైన సమయాలు.')  \n",
        "      x=str(temperatures[i]).split(',')\n",
        "      if(len(x)==1):\n",
        "        p=random.randint(0,2)\n",
        "        if(p==1):\n",
        "          w.write('ఆ సమయంలో ఈ ప్రదేశం యొక్క ఉష్ణోగ్రత:-'+x[0]+'.')\n",
        "        else:\n",
        "          w.write('ఆ సమయంలో ఈ ప్రదేశంలో నమోదయ్యె ఉష్ణోగ్రత:-'+x[0]+'.')  \n",
        "      elif(len(x)==2):\n",
        "        p=random.randint(0,2)\n",
        "        if(p==1):\n",
        "          w.write('ఆ సమయంలో ఈ ప్రదేశం యొక్క ఉష్ణోగ్రతలు:-'+x[0]+', '+x[1]+'.')\n",
        "        else:\n",
        "          w.write('ఆ సమయంలో ఈ ప్రదేశంలో నమోదయ్యె ఉష్ణోగ్రతలు:-'+x[0]+\", \"+x[1]+'.')  \n",
        "      p=random.randint(0,2)    \n",
        "      if(p==1):\n",
        "        w.write('గూగుల్ ట్రావెల్స్ వెబ్సైట్ లో '+str(perlu[i])+'కి '+str(ratings[i])+' రేటింగ్స్ ని ఇచ్చారు.')\n",
        "      else:\n",
        "        w.write(str(perlu[i])+'కి '+'గూగుల్ ట్రావెల్స్ '+'వెబ్సైట్ లో '+str(ratings[i])+' రేటింగ్స్ ని ఇచ్చారు.')  \n",
        "\n",
        "      if(desdes1[i]!='#VALUE!'):\n",
        "        w.write(str(desdes[i]))\n",
        "        w.write(str(links[i]))\n",
        "      w.write('\\t\\t\\t\\t[[వర్గం:'+str(gamyamrakalu[i])+']]')  \n",
        "      w.write('\\t\\t\\t\\t[[వర్గం:'+str(deshalu[i])+']]')\n",
        "      w.write('\\t\\t\\t\\t[[వర్గం:'+str(kandalu[i])+']]')\n",
        "\n",
        "      w.write('\\t\\t\\t</text>')\n",
        "      w.write('\\t\\t\\t<sha1>361wbnq0u5pdqb87yq2rcay5ay9ihuq</sha1>')\n",
        "      w.write('\\t\\t</revision>')\n",
        "      w.write('\\t</page>')\n",
        "      w.write('\\n\\n\\n\\n\\n')\n",
        "      q=q+1"
      ]
    },
    {
      "cell_type": "code",
      "source": [
        "q"
      ],
      "metadata": {
        "colab": {
          "base_uri": "https://localhost:8080/"
        },
        "id": "I-IeadEptdU0",
        "outputId": "95e5dbd5-7f45-4d0e-dfca-b328baf9b189"
      },
      "execution_count": null,
      "outputs": [
        {
          "output_type": "execute_result",
          "data": {
            "text/plain": [
              "21403"
            ]
          },
          "metadata": {},
          "execution_count": 43
        }
      ]
    },
    {
      "cell_type": "code",
      "source": [
        "len(perlu)"
      ],
      "metadata": {
        "colab": {
          "base_uri": "https://localhost:8080/"
        },
        "id": "uDSPIfD2_4wM",
        "outputId": "b5e89fe8-c34a-4ec8-b6c0-a967565019ea"
      },
      "execution_count": null,
      "outputs": [
        {
          "output_type": "execute_result",
          "data": {
            "text/plain": [
              "21403"
            ]
          },
          "metadata": {},
          "execution_count": 44
        }
      ]
    },
    {
      "cell_type": "code",
      "source": [
        "with open('/content/sample.txt', 'w') as w:\n",
        "    w.write(\"This is line A\")"
      ],
      "metadata": {
        "id": "N_cBGEf6YLCE"
      },
      "execution_count": null,
      "outputs": []
    },
    {
      "cell_type": "code",
      "source": [
        "type(temperatures[i])"
      ],
      "metadata": {
        "id": "iE-DzIsjYllr",
        "colab": {
          "base_uri": "https://localhost:8080/"
        },
        "outputId": "01078f62-c8b3-41a0-94e1-3d67d9ed6fe7"
      },
      "execution_count": null,
      "outputs": [
        {
          "output_type": "execute_result",
          "data": {
            "text/plain": [
              "float"
            ]
          },
          "metadata": {},
          "execution_count": 2
        }
      ]
    },
    {
      "cell_type": "code",
      "source": [
        "temperatures[i]"
      ],
      "metadata": {
        "colab": {
          "base_uri": "https://localhost:8080/"
        },
        "id": "PYt3Q-lq0UOO",
        "outputId": "4b16239a-f1b1-433c-d1d0-a5eb1731df17"
      },
      "execution_count": null,
      "outputs": [
        {
          "output_type": "execute_result",
          "data": {
            "text/plain": [
              "82.5"
            ]
          },
          "metadata": {},
          "execution_count": 3
        }
      ]
    },
    {
      "cell_type": "code",
      "source": [
        "18865"
      ],
      "metadata": {
        "id": "6uOcO2qW0WrF"
      },
      "execution_count": null,
      "outputs": []
    }
  ]
}